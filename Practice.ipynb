{
 "cells": [
  {
   "cell_type": "code",
   "execution_count": 4,
   "metadata": {},
   "outputs": [
    {
     "output_type": "error",
     "ename": "Error",
     "evalue": "Jupyter cannot be started. Error attempting to locate jupyter: Data Science libraries jupyter and notebook are not installed in interpreter Python 3.8.1 64-bit.",
     "traceback": [
      "Error: Jupyter cannot be started. Error attempting to locate jupyter: Data Science libraries jupyter and notebook are not installed in interpreter Python 3.8.1 64-bit.",
      "at C.startServer (c:\\Users\\Number One\\.vscode\\extensions\\ms-python.python-2020.3.71659\\out\\client\\extension.js:1:776232)",
      "at async C.ensureServerAndNotebookImpl (c:\\Users\\Number One\\.vscode\\extensions\\ms-python.python-2020.3.71659\\out\\client\\extension.js:1:775687)",
      "at async C.ensureServerAndNotebook (c:\\Users\\Number One\\.vscode\\extensions\\ms-python.python-2020.3.71659\\out\\client\\extension.js:1:775377)",
      "at async C.clearResult (c:\\Users\\Number One\\.vscode\\extensions\\ms-python.python-2020.3.71659\\out\\client\\extension.js:1:771418)",
      "at async C.reexecuteCell (c:\\Users\\Number One\\.vscode\\extensions\\ms-python.python-2020.3.71659\\out\\client\\extension.js:1:760783)",
      "at async C.reexecuteCells (c:\\Users\\Number One\\.vscode\\extensions\\ms-python.python-2020.3.71659\\out\\client\\extension.js:1:757797)"
     ]
    }
   ],
   "source": [
    "from splinter import Browser\n",
    "from bs4 import BeautifulSoup"
   ]
  },
  {
   "cell_type": "code",
   "execution_count": 5,
   "metadata": {},
   "outputs": [
    {
     "output_type": "error",
     "ename": "Error",
     "evalue": "Jupyter cannot be started. Error attempting to locate jupyter: Data Science libraries notebook and jupyter are not installed in interpreter Python 3.8.1 64-bit.",
     "traceback": [
      "Error: Jupyter cannot be started. Error attempting to locate jupyter: Data Science libraries notebook and jupyter are not installed in interpreter Python 3.8.1 64-bit.",
      "at C.startServer (c:\\Users\\Number One\\.vscode\\extensions\\ms-python.python-2020.3.71659\\out\\client\\extension.js:1:776232)",
      "at async C.ensureServerAndNotebookImpl (c:\\Users\\Number One\\.vscode\\extensions\\ms-python.python-2020.3.71659\\out\\client\\extension.js:1:775687)",
      "at async C.ensureServerAndNotebook (c:\\Users\\Number One\\.vscode\\extensions\\ms-python.python-2020.3.71659\\out\\client\\extension.js:1:775377)",
      "at async C.clearResult (c:\\Users\\Number One\\.vscode\\extensions\\ms-python.python-2020.3.71659\\out\\client\\extension.js:1:771418)",
      "at async C.reexecuteCell (c:\\Users\\Number One\\.vscode\\extensions\\ms-python.python-2020.3.71659\\out\\client\\extension.js:1:760783)",
      "at async C.reexecuteCells (c:\\Users\\Number One\\.vscode\\extensions\\ms-python.python-2020.3.71659\\out\\client\\extension.js:1:757797)"
     ]
    }
   ],
   "source": [
    "# Path to chromedriver\n",
    "!which chromedriver"
   ]
  },
  {
   "cell_type": "code",
   "execution_count": null,
   "metadata": {},
   "outputs": [],
   "source": []
  },
  {
   "cell_type": "code",
   "execution_count": null,
   "metadata": {},
   "outputs": [],
   "source": []
  }
 ],
 "metadata": {
  "kernelspec": {
   "display_name": "Python 3",
   "language": "python",
   "name": "python3"
  },
  "language_info": {
   "codemirror_mode": {
    "name": "ipython",
    "version": 3
   },
   "file_extension": ".py",
   "mimetype": "text/x-python",
   "name": "python",
   "nbconvert_exporter": "python",
   "pygments_lexer": "ipython3",
   "version": "3.6.9"
  }
 },
 "nbformat": 4,
 "nbformat_minor": 4
}